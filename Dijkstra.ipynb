{
  "nbformat": 4,
  "nbformat_minor": 0,
  "metadata": {
    "colab": {
      "provenance": [],
      "authorship_tag": "ABX9TyMTcfTPYGOqpABUwO6vaLG0",
      "include_colab_link": true
    },
    "kernelspec": {
      "name": "python3",
      "display_name": "Python 3"
    },
    "language_info": {
      "name": "python"
    }
  },
  "cells": [
    {
      "cell_type": "markdown",
      "metadata": {
        "id": "view-in-github",
        "colab_type": "text"
      },
      "source": [
        "<a href=\"https://colab.research.google.com/github/garciacortes/Aulas_facul/blob/main/Dijkstra.ipynb\" target=\"_parent\"><img src=\"https://colab.research.google.com/assets/colab-badge.svg\" alt=\"Open In Colab\"/></a>"
      ]
    },
    {
      "cell_type": "code",
      "execution_count": null,
      "metadata": {
        "id": "kRQNgzSetZ1Y"
      },
      "outputs": [],
      "source": [
        "import heapq\n",
        "\n",
        "class Grafo:\n",
        "    def __init__(self):\n",
        "        self.vertices = set()\n",
        "        self.arestas = {}\n",
        "\n",
        "    def add_vertice(self, value):\n",
        "        self.vertices.add(value)\n",
        "        self.arestas[value] = []\n",
        "\n",
        "    def add_aresta(self, de, para, peso):\n",
        "        self.arestas[de].append((para, peso))\n",
        "        self.arestas[para].append((de, peso))\n",
        "\n",
        "class Dijkstra:\n",
        "    def __init__(self, grafo):\n",
        "        self.grafo = grafo\n",
        "\n",
        "    def menor_caminho(self, origem, destino):\n",
        "        # Verificar se os vértices de origem e destino estão no grafo\n",
        "        if origem not in self.grafo.vertices or destino not in self.grafo.vertices:\n",
        "            raise ValueError(\"Vértice de origem ou destino não está no grafo.\")\n",
        "\n",
        "        # Inicializar dicionários de distâncias e predecessores\n",
        "        distancias = {v: float('infinity') for v in self.grafo.vertices}\n",
        "        predecessores = {v: None for v in self.grafo.vertices}\n",
        "        distancias[origem] = 0\n",
        "\n",
        "        # Utilizar uma fila de prioridade (min-heap) para armazenar os vértices\n",
        "        vertices_heap = [(0, origem)]\n",
        "\n",
        "        while vertices_heap:\n",
        "            # Extrair o vértice com a menor distância da fila de prioridade\n",
        "            current_dist, current_vertice = heapq.heappop(vertices_heap)\n",
        "\n",
        "            # Verificar os vizinhos do vértice atual\n",
        "            for vizinho, peso in self.grafo.arestas[current_vertice]:\n",
        "                nova_distancia = distancias[current_vertice] + peso\n",
        "\n",
        "                # Atualizar a distância se uma distância mais curta for encontrada\n",
        "                if nova_distancia < distancias[vizinho]:\n",
        "                    distancias[vizinho] = nova_distancia\n",
        "                    predecessores[vizinho] = current_vertice\n",
        "                    heapq.heappush(vertices_heap, (nova_distancia, vizinho))\n",
        "\n",
        "        # Reconstruir o caminho mínimo a partir dos predecessores\n",
        "        caminho = []\n",
        "        vertice_atual = destino\n",
        "        while vertice_atual is not None:\n",
        "            caminho.insert(0, vertice_atual)\n",
        "            vertice_atual = predecessores[vertice_atual]\n",
        "\n",
        "        return caminho, distancias[destino]\n",
        "\n",
        "# Exemplo de uso\n",
        "grafo = Grafo()\n",
        "grafo.add_vertice(\"Sao Paulo\")\n",
        "grafo.add_vertice(\"Rio de Janeiro\")\n",
        "grafo.add_vertice(\"Salvador\")\n",
        "grafo.add_vertice(\"Vitoria\")\n",
        "grafo.add_vertice(\"Recife\")\n",
        "grafo.add_vertice(\"Natal\")\n",
        "grafo.add_aresta(\"Sao Paulo\", \"Rio de Janeiro\", 300)\n",
        "grafo.add_aresta(\"Sao Paulo\", \"Recife\", 400)\n",
        "grafo.add_aresta(\"Sao Paulo\", \"Salvador\", 100)\n",
        "grafo.add_aresta(\"Rio de Janeiro\", \"Vitoria\", 100)\n",
        "grafo.add_aresta(\"Rio de Janeiro\", \"Natal\", 70)\n",
        "grafo.add_aresta(\"Salvador\", \"Natal\", 50)\n",
        "grafo.add_aresta(\"Recife\", \"Natal\", 150)\n",
        "grafo.add_aresta(\"Recife\", \"Vitoria\", 50)\n",
        "\n",
        "\n",
        "dijkstra = Dijkstra(grafo)\n",
        "\n",
        "origem = input(\"Informe a origem: \")\n",
        "destino = input(\"Informe o destino: \")\n",
        "\n",
        "caminho, distancia = dijkstra.menor_caminho(origem, destino)\n",
        "\n",
        "print(f\"O menor caminho de {origem} para {destino} é: {caminho}\")\n",
        "print(f\"A distância total é: {distancia}\")"
      ]
    }
  ]
}